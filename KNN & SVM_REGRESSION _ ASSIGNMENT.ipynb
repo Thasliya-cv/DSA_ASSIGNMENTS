{
 "cells": [
  {
   "cell_type": "markdown",
   "id": "b90420ef-f9eb-4bc2-ab42-55aa042aa3bc",
   "metadata": {},
   "source": [
    "## KNN REGRESSOR"
   ]
  },
  {
   "cell_type": "code",
   "execution_count": 133,
   "id": "e7ecf23a-d96c-4d9b-984d-f29cc6d0ba02",
   "metadata": {},
   "outputs": [],
   "source": [
    "import numpy as np\n",
    "import pandas as pd\n",
    "import matplotlib.pyplot as plt\n",
    "import seaborn as sns"
   ]
  },
  {
   "cell_type": "code",
   "execution_count": 134,
   "id": "9309847b-600e-473e-a70a-3990ebcd7005",
   "metadata": {},
   "outputs": [
    {
     "data": {
      "text/html": [
       "<div>\n",
       "<style scoped>\n",
       "    .dataframe tbody tr th:only-of-type {\n",
       "        vertical-align: middle;\n",
       "    }\n",
       "\n",
       "    .dataframe tbody tr th {\n",
       "        vertical-align: top;\n",
       "    }\n",
       "\n",
       "    .dataframe thead th {\n",
       "        text-align: right;\n",
       "    }\n",
       "</style>\n",
       "<table border=\"1\" class=\"dataframe\">\n",
       "  <thead>\n",
       "    <tr style=\"text-align: right;\">\n",
       "      <th></th>\n",
       "      <th>Age</th>\n",
       "      <th>Height</th>\n",
       "      <th>Weight</th>\n",
       "      <th>Bmi</th>\n",
       "      <th>BmiClass</th>\n",
       "    </tr>\n",
       "  </thead>\n",
       "  <tbody>\n",
       "    <tr>\n",
       "      <th>0</th>\n",
       "      <td>61</td>\n",
       "      <td>1.85</td>\n",
       "      <td>109.30</td>\n",
       "      <td>31.935720</td>\n",
       "      <td>Obese Class 1</td>\n",
       "    </tr>\n",
       "    <tr>\n",
       "      <th>1</th>\n",
       "      <td>60</td>\n",
       "      <td>1.71</td>\n",
       "      <td>79.02</td>\n",
       "      <td>27.023700</td>\n",
       "      <td>Overweight</td>\n",
       "    </tr>\n",
       "    <tr>\n",
       "      <th>2</th>\n",
       "      <td>60</td>\n",
       "      <td>1.55</td>\n",
       "      <td>74.70</td>\n",
       "      <td>31.092612</td>\n",
       "      <td>Obese Class 1</td>\n",
       "    </tr>\n",
       "    <tr>\n",
       "      <th>3</th>\n",
       "      <td>60</td>\n",
       "      <td>1.46</td>\n",
       "      <td>35.90</td>\n",
       "      <td>16.841809</td>\n",
       "      <td>Underweight</td>\n",
       "    </tr>\n",
       "    <tr>\n",
       "      <th>4</th>\n",
       "      <td>60</td>\n",
       "      <td>1.58</td>\n",
       "      <td>97.10</td>\n",
       "      <td>38.896010</td>\n",
       "      <td>Obese Class 2</td>\n",
       "    </tr>\n",
       "    <tr>\n",
       "      <th>...</th>\n",
       "      <td>...</td>\n",
       "      <td>...</td>\n",
       "      <td>...</td>\n",
       "      <td>...</td>\n",
       "      <td>...</td>\n",
       "    </tr>\n",
       "    <tr>\n",
       "      <th>736</th>\n",
       "      <td>34</td>\n",
       "      <td>1.86</td>\n",
       "      <td>95.70</td>\n",
       "      <td>27.662157</td>\n",
       "      <td>Overweight</td>\n",
       "    </tr>\n",
       "    <tr>\n",
       "      <th>737</th>\n",
       "      <td>44</td>\n",
       "      <td>1.91</td>\n",
       "      <td>106.90</td>\n",
       "      <td>29.302925</td>\n",
       "      <td>Overweight</td>\n",
       "    </tr>\n",
       "    <tr>\n",
       "      <th>738</th>\n",
       "      <td>25</td>\n",
       "      <td>1.82</td>\n",
       "      <td>88.40</td>\n",
       "      <td>26.687598</td>\n",
       "      <td>Overweight</td>\n",
       "    </tr>\n",
       "    <tr>\n",
       "      <th>739</th>\n",
       "      <td>35</td>\n",
       "      <td>1.88</td>\n",
       "      <td>98.50</td>\n",
       "      <td>27.868945</td>\n",
       "      <td>Overweight</td>\n",
       "    </tr>\n",
       "    <tr>\n",
       "      <th>740</th>\n",
       "      <td>45</td>\n",
       "      <td>1.93</td>\n",
       "      <td>109.90</td>\n",
       "      <td>29.504148</td>\n",
       "      <td>Overweight</td>\n",
       "    </tr>\n",
       "  </tbody>\n",
       "</table>\n",
       "<p>741 rows × 5 columns</p>\n",
       "</div>"
      ],
      "text/plain": [
       "     Age  Height  Weight        Bmi       BmiClass\n",
       "0     61    1.85  109.30  31.935720  Obese Class 1\n",
       "1     60    1.71   79.02  27.023700     Overweight\n",
       "2     60    1.55   74.70  31.092612  Obese Class 1\n",
       "3     60    1.46   35.90  16.841809    Underweight\n",
       "4     60    1.58   97.10  38.896010  Obese Class 2\n",
       "..   ...     ...     ...        ...            ...\n",
       "736   34    1.86   95.70  27.662157     Overweight\n",
       "737   44    1.91  106.90  29.302925     Overweight\n",
       "738   25    1.82   88.40  26.687598     Overweight\n",
       "739   35    1.88   98.50  27.868945     Overweight\n",
       "740   45    1.93  109.90  29.504148     Overweight\n",
       "\n",
       "[741 rows x 5 columns]"
      ]
     },
     "execution_count": 134,
     "metadata": {},
     "output_type": "execute_result"
    }
   ],
   "source": [
    "df=pd.read_csv('bmi.csv')\n",
    "df"
   ]
  },
  {
   "cell_type": "code",
   "execution_count": 135,
   "id": "710a2404-d451-4c4f-8415-35ccb6ccc169",
   "metadata": {},
   "outputs": [
    {
     "name": "stdout",
     "output_type": "stream",
     "text": [
      "<class 'pandas.core.frame.DataFrame'>\n",
      "RangeIndex: 741 entries, 0 to 740\n",
      "Data columns (total 5 columns):\n",
      " #   Column    Non-Null Count  Dtype  \n",
      "---  ------    --------------  -----  \n",
      " 0   Age       741 non-null    int64  \n",
      " 1   Height    741 non-null    float64\n",
      " 2   Weight    741 non-null    float64\n",
      " 3   Bmi       741 non-null    float64\n",
      " 4   BmiClass  741 non-null    object \n",
      "dtypes: float64(3), int64(1), object(1)\n",
      "memory usage: 29.1+ KB\n"
     ]
    }
   ],
   "source": [
    "df.info()"
   ]
  },
  {
   "cell_type": "code",
   "execution_count": 136,
   "id": "fc632406-e97f-48d6-8742-a1897474126c",
   "metadata": {},
   "outputs": [
    {
     "data": {
      "text/plain": [
       "0"
      ]
     },
     "execution_count": 136,
     "metadata": {},
     "output_type": "execute_result"
    }
   ],
   "source": [
    "df.duplicated().sum()"
   ]
  },
  {
   "cell_type": "code",
   "execution_count": 137,
   "id": "2d920e61-5ff4-4e40-9c97-face51b72f48",
   "metadata": {},
   "outputs": [
    {
     "data": {
      "text/plain": [
       "BmiClass\n",
       "Normal Weight    342\n",
       "Overweight       166\n",
       "Underweight       96\n",
       "Obese Class 3     62\n",
       "Obese Class 2     55\n",
       "Obese Class 1     20\n",
       "Name: count, dtype: int64"
      ]
     },
     "execution_count": 137,
     "metadata": {},
     "output_type": "execute_result"
    }
   ],
   "source": [
    "df.BmiClass.value_counts()  "
   ]
  },
  {
   "cell_type": "code",
   "execution_count": 138,
   "id": "343d61f9-ef2f-4ad0-b16d-1de65983ce14",
   "metadata": {},
   "outputs": [
    {
     "data": {
      "text/plain": [
       "Age           int64\n",
       "Height      float64\n",
       "Weight      float64\n",
       "Bmi         float64\n",
       "BmiClass      int32\n",
       "dtype: object"
      ]
     },
     "execution_count": 138,
     "metadata": {},
     "output_type": "execute_result"
    }
   ],
   "source": [
    "from sklearn.preprocessing import LabelEncoder\n",
    "le=LabelEncoder()\n",
    "df.BmiClass=le.fit_transform(df.BmiClass)\n",
    "df.dtypes"
   ]
  },
  {
   "cell_type": "code",
   "execution_count": 139,
   "id": "379777e6-92c9-41bb-8517-000e2d2d4d5c",
   "metadata": {},
   "outputs": [
    {
     "data": {
      "text/html": [
       "<div>\n",
       "<style scoped>\n",
       "    .dataframe tbody tr th:only-of-type {\n",
       "        vertical-align: middle;\n",
       "    }\n",
       "\n",
       "    .dataframe tbody tr th {\n",
       "        vertical-align: top;\n",
       "    }\n",
       "\n",
       "    .dataframe thead th {\n",
       "        text-align: right;\n",
       "    }\n",
       "</style>\n",
       "<table border=\"1\" class=\"dataframe\">\n",
       "  <thead>\n",
       "    <tr style=\"text-align: right;\">\n",
       "      <th></th>\n",
       "      <th>Age</th>\n",
       "      <th>Height</th>\n",
       "      <th>Weight</th>\n",
       "      <th>Bmi</th>\n",
       "      <th>BmiClass</th>\n",
       "    </tr>\n",
       "  </thead>\n",
       "  <tbody>\n",
       "    <tr>\n",
       "      <th>0</th>\n",
       "      <td>61</td>\n",
       "      <td>1.85</td>\n",
       "      <td>109.30</td>\n",
       "      <td>31.935720</td>\n",
       "      <td>1</td>\n",
       "    </tr>\n",
       "    <tr>\n",
       "      <th>1</th>\n",
       "      <td>60</td>\n",
       "      <td>1.71</td>\n",
       "      <td>79.02</td>\n",
       "      <td>27.023700</td>\n",
       "      <td>4</td>\n",
       "    </tr>\n",
       "    <tr>\n",
       "      <th>2</th>\n",
       "      <td>60</td>\n",
       "      <td>1.55</td>\n",
       "      <td>74.70</td>\n",
       "      <td>31.092612</td>\n",
       "      <td>1</td>\n",
       "    </tr>\n",
       "    <tr>\n",
       "      <th>3</th>\n",
       "      <td>60</td>\n",
       "      <td>1.46</td>\n",
       "      <td>35.90</td>\n",
       "      <td>16.841809</td>\n",
       "      <td>5</td>\n",
       "    </tr>\n",
       "    <tr>\n",
       "      <th>4</th>\n",
       "      <td>60</td>\n",
       "      <td>1.58</td>\n",
       "      <td>97.10</td>\n",
       "      <td>38.896010</td>\n",
       "      <td>2</td>\n",
       "    </tr>\n",
       "    <tr>\n",
       "      <th>...</th>\n",
       "      <td>...</td>\n",
       "      <td>...</td>\n",
       "      <td>...</td>\n",
       "      <td>...</td>\n",
       "      <td>...</td>\n",
       "    </tr>\n",
       "    <tr>\n",
       "      <th>736</th>\n",
       "      <td>34</td>\n",
       "      <td>1.86</td>\n",
       "      <td>95.70</td>\n",
       "      <td>27.662157</td>\n",
       "      <td>4</td>\n",
       "    </tr>\n",
       "    <tr>\n",
       "      <th>737</th>\n",
       "      <td>44</td>\n",
       "      <td>1.91</td>\n",
       "      <td>106.90</td>\n",
       "      <td>29.302925</td>\n",
       "      <td>4</td>\n",
       "    </tr>\n",
       "    <tr>\n",
       "      <th>738</th>\n",
       "      <td>25</td>\n",
       "      <td>1.82</td>\n",
       "      <td>88.40</td>\n",
       "      <td>26.687598</td>\n",
       "      <td>4</td>\n",
       "    </tr>\n",
       "    <tr>\n",
       "      <th>739</th>\n",
       "      <td>35</td>\n",
       "      <td>1.88</td>\n",
       "      <td>98.50</td>\n",
       "      <td>27.868945</td>\n",
       "      <td>4</td>\n",
       "    </tr>\n",
       "    <tr>\n",
       "      <th>740</th>\n",
       "      <td>45</td>\n",
       "      <td>1.93</td>\n",
       "      <td>109.90</td>\n",
       "      <td>29.504148</td>\n",
       "      <td>4</td>\n",
       "    </tr>\n",
       "  </tbody>\n",
       "</table>\n",
       "<p>741 rows × 5 columns</p>\n",
       "</div>"
      ],
      "text/plain": [
       "     Age  Height  Weight        Bmi  BmiClass\n",
       "0     61    1.85  109.30  31.935720         1\n",
       "1     60    1.71   79.02  27.023700         4\n",
       "2     60    1.55   74.70  31.092612         1\n",
       "3     60    1.46   35.90  16.841809         5\n",
       "4     60    1.58   97.10  38.896010         2\n",
       "..   ...     ...     ...        ...       ...\n",
       "736   34    1.86   95.70  27.662157         4\n",
       "737   44    1.91  106.90  29.302925         4\n",
       "738   25    1.82   88.40  26.687598         4\n",
       "739   35    1.88   98.50  27.868945         4\n",
       "740   45    1.93  109.90  29.504148         4\n",
       "\n",
       "[741 rows x 5 columns]"
      ]
     },
     "execution_count": 139,
     "metadata": {},
     "output_type": "execute_result"
    }
   ],
   "source": [
    "df"
   ]
  },
  {
   "cell_type": "code",
   "execution_count": 140,
   "id": "c937bb22-65e5-42d7-9a3c-0d7fc57b6ae1",
   "metadata": {},
   "outputs": [
    {
     "data": {
      "text/plain": [
       "<Axes: >"
      ]
     },
     "execution_count": 140,
     "metadata": {},
     "output_type": "execute_result"
    },
    {
     "data": {
      "image/png": "[encoded data removed]",
      "text/plain": [
       "<Figure size 640x480 with 1 Axes>"
      ]
     },
     "metadata": {},
     "output_type": "display_data"
    }
   ],
   "source": [
    "sns.boxplot(df)"
   ]
  },
  {
   "cell_type": "code",
   "execution_count": 141,
   "id": "a38554ba-7615-4227-9268-bb19f64ec2ee",
   "metadata": {},
   "outputs": [
    {
     "data": {
      "text/plain": [
       "Age         0.578546\n",
       "Height     -0.390655\n",
       "Weight      2.005903\n",
       "Bmi         1.717363\n",
       "BmiClass    0.250371\n",
       "dtype: float64"
      ]
     },
     "execution_count": 141,
     "metadata": {},
     "output_type": "execute_result"
    }
   ],
   "source": [
    "df.skew()"
   ]
  },
  {
   "cell_type": "code",
   "execution_count": 142,
   "id": "1008e01d-713f-41fe-9edc-4c970ad50e38",
   "metadata": {},
   "outputs": [],
   "source": [
    "for i in df.columns:\n",
    "    q1=np.percentile(df[i],25,method='midpoint')\n",
    "    q3=np.percentile(df[i],75,method='midpoint')\n",
    "    iqr=q3-q1\n",
    "    upper_lim=q3+0.5*iqr\n",
    "    lower_lim=q1-0.5*iqr\n",
    "    df[i]=df[i].clip(upper=upper_lim,lower=lower_lim)"
   ]
  },
  {
   "cell_type": "code",
   "execution_count": 143,
   "id": "444d6671-7b27-4b39-9f9c-936ce7d19510",
   "metadata": {},
   "outputs": [
    {
     "data": {
      "text/plain": [
       "<Axes: >"
      ]
     },
     "execution_count": 143,
     "metadata": {},
     "output_type": "execute_result"
    },
    {
     "data": {
      "image/png": "[encoded data removed]",
      "text/plain": [
       "<Figure size 640x480 with 1 Axes>"
      ]
     },
     "metadata": {},
     "output_type": "display_data"
    }
   ],
   "source": [
    "sns.boxplot(df)\n"
   ]
  },
  {
   "cell_type": "code",
   "execution_count": 144,
   "id": "dfe15dd6-1ae9-4a3f-9612-3ce45afb68e2",
   "metadata": {},
   "outputs": [],
   "source": [
    "y=df.BmiClass.values.reshape(-1,1)\n",
    "x=df.drop('BmiClass',axis=1)"
   ]
  },
  {
   "cell_type": "code",
   "execution_count": 145,
   "id": "1d627bd4-a91f-4d36-a38c-3ffe1d231b24",
   "metadata": {},
   "outputs": [
    {
     "data": {
      "text/plain": [
       "array([[ 1.66960607,  1.43819152,  1.49595338,  1.49865493],\n",
       "       [ 1.66960607, -0.08182835,  0.43107575,  0.71168681],\n",
       "       [ 1.66960607, -1.58319767,  0.11227662,  1.49865493],\n",
       "       ...,\n",
       "       [-0.57216625,  1.43819152,  1.12328311,  0.61672663],\n",
       "       [ 0.36190555,  1.43819152,  1.49595338,  0.95049765],\n",
       "       [ 1.29597735,  1.43819152,  1.49595338,  1.41249838]])"
      ]
     },
     "execution_count": 145,
     "metadata": {},
     "output_type": "execute_result"
    }
   ],
   "source": [
    "from sklearn.preprocessing import StandardScaler\n",
    "sc=StandardScaler()\n",
    "x_sc=sc.fit_transform(x)\n",
    "x_sc"
   ]
  },
  {
   "cell_type": "code",
   "execution_count": 185,
   "id": "4901f471-a550-48f8-87e4-a1330c663fdb",
   "metadata": {},
   "outputs": [],
   "source": [
    "from sklearn.model_selection import train_test_split\n",
    "x_train,x_test,y_train,y_test=train_test_split(x_sc,y,test_size=0.1,random_state=42)"
   ]
  },
  {
   "cell_type": "code",
   "execution_count": 187,
   "id": "99dc0431-0adb-4286-a498-d58b0706ceec",
   "metadata": {},
   "outputs": [
    {
     "data": {
      "text/plain": [
       "array([[4. ],\n",
       "       [4. ],\n",
       "       [2.8],\n",
       "       [3. ],\n",
       "       [0. ],\n",
       "       [2.4],\n",
       "       [4. ],\n",
       "       [2. ],\n",
       "       [2.2],\n",
       "       [0. ],\n",
       "       [0. ],\n",
       "       [4. ],\n",
       "       [3.2],\n",
       "       [5. ],\n",
       "       [1.6],\n",
       "       [0. ],\n",
       "       [4. ],\n",
       "       [4. ],\n",
       "       [4. ],\n",
       "       [4. ],\n",
       "       [0. ],\n",
       "       [2.4],\n",
       "       [3. ],\n",
       "       [0. ],\n",
       "       [0. ],\n",
       "       [0. ],\n",
       "       [4. ],\n",
       "       [0. ],\n",
       "       [0. ],\n",
       "       [3. ],\n",
       "       [5. ],\n",
       "       [4. ],\n",
       "       [0. ],\n",
       "       [4. ],\n",
       "       [2.8],\n",
       "       [2.8],\n",
       "       [1. ],\n",
       "       [4. ],\n",
       "       [5. ],\n",
       "       [5. ],\n",
       "       [0. ],\n",
       "       [0. ],\n",
       "       [4. ],\n",
       "       [0. ],\n",
       "       [2.8],\n",
       "       [0. ],\n",
       "       [2. ],\n",
       "       [4. ],\n",
       "       [2. ],\n",
       "       [4. ],\n",
       "       [4. ],\n",
       "       [2.6],\n",
       "       [5. ],\n",
       "       [2.6],\n",
       "       [0. ],\n",
       "       [4. ],\n",
       "       [0. ],\n",
       "       [0. ],\n",
       "       [4. ],\n",
       "       [2.6],\n",
       "       [5. ],\n",
       "       [2.8],\n",
       "       [0. ],\n",
       "       [2.6],\n",
       "       [0. ],\n",
       "       [0. ],\n",
       "       [0. ],\n",
       "       [2.4],\n",
       "       [0. ],\n",
       "       [5. ],\n",
       "       [0. ],\n",
       "       [0. ],\n",
       "       [1.6],\n",
       "       [4. ],\n",
       "       [0. ]])"
      ]
     },
     "execution_count": 187,
     "metadata": {},
     "output_type": "execute_result"
    }
   ],
   "source": [
    "from sklearn.neighbors import KNeighborsRegressor\n",
    "knn=KNeighborsRegressor()\n",
    "knn_model=knn.fit(x_train,y_train)\n",
    "knn_pred=knn_model.predict(x_test)\n",
    "knn_pred"
   ]
  },
  {
   "cell_type": "code",
   "execution_count": 189,
   "id": "19366b54-a4f0-4ed2-a479-be1b12629b1d",
   "metadata": {},
   "outputs": [],
   "source": [
    "from sklearn.metrics import mean_squared_error,mean_absolute_error,r2_score"
   ]
  },
  {
   "cell_type": "code",
   "execution_count": 191,
   "id": "11af8fa2-d9a4-43c4-bcb5-b907257ba6e9",
   "metadata": {},
   "outputs": [
    {
     "name": "stdout",
     "output_type": "stream",
     "text": [
      "0.8149333333333334\n"
     ]
    }
   ],
   "source": [
    "print(mean_squared_error(y_test,knn_pred))"
   ]
  },
  {
   "cell_type": "code",
   "execution_count": 193,
   "id": "c68d5ccf-f174-490a-a5c0-ed116fc178a8",
   "metadata": {},
   "outputs": [
    {
     "name": "stdout",
     "output_type": "stream",
     "text": [
      "0.4\n"
     ]
    }
   ],
   "source": [
    "print(mean_absolute_error(y_test,knn_pred))"
   ]
  },
  {
   "cell_type": "code",
   "execution_count": 195,
   "id": "ce05568b-2383-437c-9913-25ed675743dd",
   "metadata": {},
   "outputs": [
    {
     "name": "stdout",
     "output_type": "stream",
     "text": [
      "0.7941995151297476\n"
     ]
    }
   ],
   "source": [
    "print(r2_score(y_test,knn_pred))"
   ]
  },
  {
   "cell_type": "markdown",
   "id": "d00b081d-b239-4f5e-bfa9-6aebc0b5e51a",
   "metadata": {},
   "source": [
    "## SVM REGRESSOR"
   ]
  },
  {
   "cell_type": "code",
   "execution_count": 197,
   "id": "1368cffd-2e9e-444b-bd81-dd5ad1573bf5",
   "metadata": {},
   "outputs": [
    {
     "name": "stderr",
     "output_type": "stream",
     "text": [
      "C:\\Users\\thasl\\anaconda3\\Lib\\site-packages\\sklearn\\utils\\validation.py:1339: DataConversionWarning: A column-vector y was passed when a 1d array was expected. Please change the shape of y to (n_samples, ), for example using ravel().\n",
      "  y = column_or_1d(y, warn=True)\n"
     ]
    },
    {
     "data": {
      "text/plain": [
       "array([ 4.12215116,  3.11599993,  2.4909093 ,  4.65037632, -0.23302495,\n",
       "        3.0138434 ,  4.33754932,  2.4922547 ,  2.53522476,  0.41674522,\n",
       "        0.10447688,  2.48596155,  2.83692779,  5.02223193,  2.1839514 ,\n",
       "        0.81380531,  4.02004463,  3.72662546,  3.32084039,  4.10255533,\n",
       "        0.19648448,  2.93218389,  3.05524305,  0.90177806,  0.18606995,\n",
       "       -0.15407315,  3.40446673,  0.32269127, -0.08960809,  2.30787409,\n",
       "        4.90439759,  3.46777191,  0.27946514,  4.0012003 ,  2.75928845,\n",
       "        3.83885745,  1.21388114,  2.59190053,  5.02223193,  4.89979804,\n",
       "        0.45291837,  0.86181055,  3.93676001,  0.29612725,  3.05380414,\n",
       "        0.18686896,  2.02910241,  4.24602261,  1.56972336,  4.01598896,\n",
       "        3.37549651,  2.98623972,  4.96564699,  2.7918571 , -0.11629807,\n",
       "        3.91193149,  1.0158026 , -0.20536533,  2.38373991,  2.96207681,\n",
       "        4.89972621,  2.93682222, -0.07274131,  2.61322226,  0.74254842,\n",
       "        0.19934005,  0.06056915,  1.16750105, -0.00565525,  5.05261758,\n",
       "        1.47946256,  1.3064613 ,  2.42088693,  2.00406345,  0.98623894])"
      ]
     },
     "execution_count": 197,
     "metadata": {},
     "output_type": "execute_result"
    }
   ],
   "source": [
    "from sklearn.svm import SVR\n",
    "svm=SVR()\n",
    "svm_model=svm.fit(x_train,y_train)\n",
    "svm_pred=svm_model.predict(x_test)\n",
    "svm_pred"
   ]
  },
  {
   "cell_type": "code",
   "execution_count": 199,
   "id": "ea301397-73be-426e-bae9-c921a25f3204",
   "metadata": {},
   "outputs": [
    {
     "name": "stdout",
     "output_type": "stream",
     "text": [
      "1.0434623242137009\n"
     ]
    }
   ],
   "source": [
    "print(mean_squared_error(y_test,svm_pred))\n"
   ]
  },
  {
   "cell_type": "code",
   "execution_count": 201,
   "id": "0833e109-6a75-4755-88fe-fb1eab65e068",
   "metadata": {},
   "outputs": [
    {
     "name": "stdout",
     "output_type": "stream",
     "text": [
      "0.6606796113856774\n"
     ]
    }
   ],
   "source": [
    "print(mean_absolute_error(y_test,svm_pred))\n"
   ]
  },
  {
   "cell_type": "code",
   "execution_count": 203,
   "id": "76df6e89-e6d3-43c5-8174-8495f76fcd2e",
   "metadata": {},
   "outputs": [
    {
     "name": "stdout",
     "output_type": "stream",
     "text": [
      "0.7364875831147495\n"
     ]
    }
   ],
   "source": [
    "print(r2_score(y_test,svm_pred))"
   ]
  },
  {
   "cell_type": "code",
   "execution_count": null,
   "id": "ad519db0-a2e7-49a6-a825-e92ec756cd78",
   "metadata": {},
   "outputs": [],
   "source": []
  }
 ],
 "metadata": {
  "kernelspec": {
   "display_name": "Python [conda env:base] *",
   "language": "python",
   "name": "conda-base-py"
  },
  "language_info": {
   "codemirror_mode": {
    "name": "ipython",
    "version": 3
   },
   "file_extension": ".py",
   "mimetype": "text/x-python",
   "name": "python",
   "nbconvert_exporter": "python",
   "pygments_lexer": "ipython3",
   "version": "3.12.7"
  }
 },
 "nbformat": 4,
 "nbformat_minor": 5
}
