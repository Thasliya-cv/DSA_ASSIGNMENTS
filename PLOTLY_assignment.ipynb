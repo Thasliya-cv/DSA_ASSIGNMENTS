{
 "cells": [
  {
   "cell_type": "code",
   "execution_count": 1,
   "id": "b41a57d8-3be1-4465-b0c6-ce662a23d10f",
   "metadata": {},
   "outputs": [
    {
     "data": {
      "text/html": [
       "\n",
       "        <iframe\n",
       "            width=\"100%\"\n",
       "            height=\"650\"\n",
       "            src=\"http://127.0.0.1:8053/\"\n",
       "            frameborder=\"0\"\n",
       "            allowfullscreen\n",
       "            \n",
       "        ></iframe>\n",
       "        "
      ],
      "text/plain": [
       "<IPython.lib.display.IFrame at 0x185bc5ce9c0>"
      ]
     },
     "metadata": {},
     "output_type": "display_data"
    }
   ],
   "source": [
    "from dash import Dash,html,dash_table,dcc\n",
    "import plotly.express as px\n",
    "import pandas as pd\n",
    "df=px.data.iris()\n",
    "app=Dash()\n",
    "app.layout=[html.Div(children='IRIS DATASET',style={'color':'red', 'textAlign': 'center','fontSize':50}),\n",
    "            dash_table.DataTable(data=df.to_dict('records'),page_size=12),\n",
    "            dcc.Graph(figure=px.line(df,x='species',y='petal_width',title='LINE PLOT')),\n",
    "            dcc.Graph(figure=px.bar(df,x='sepal_width',y=\"sepal_length\",color='species',barmode='group',title='BAR PLOT')),\n",
    "            dcc.Graph(figure=px.scatter(df,x='petal_length',y='petal_width',color='species',symbol='species',title='SCATTER PLOT')),\n",
    "            dcc.Graph(figure=px.histogram(df,x='sepal_width',color='species',title='HISTOGRAM')),\n",
    "            dcc.Graph(figure=px.pie(df,values='sepal_width',names='species',title='PIE CHART')),\n",
    "            dcc.Graph(figure=px.box(df,y='sepal_width',x='species',title='BOX PLOT')),\n",
    "            dcc.Graph(figure=px.violin(df,y='sepal_width',x='species',title='VIOLIN PLOT'))]\n",
    "\n",
    "\n",
    "if __name__=='__main__':\n",
    "    app.run(debug=True,port=8053)\n"
   ]
  },
  {
   "cell_type": "code",
   "execution_count": null,
   "id": "c765dfdb-5bc2-4a04-b089-8e356959ef1a",
   "metadata": {},
   "outputs": [],
   "source": []
  }
 ],
 "metadata": {
  "kernelspec": {
   "display_name": "Python 3 (ipykernel)",
   "language": "python",
   "name": "python3"
  },
  "language_info": {
   "codemirror_mode": {
    "name": "ipython",
    "version": 3
   },
   "file_extension": ".py",
   "mimetype": "text/x-python",
   "name": "python",
   "nbconvert_exporter": "python",
   "pygments_lexer": "ipython3",
   "version": "3.12.7"
  }
 },
 "nbformat": 4,
 "nbformat_minor": 5
}
