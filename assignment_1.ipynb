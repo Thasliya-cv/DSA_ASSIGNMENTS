{
 "cells": [
  {
   "cell_type": "markdown",
   "id": "0cc12bc9-350e-4e63-a4b7-820d0e8396ca",
   "metadata": {},
   "source": [
    "# PYTHON BASICS"
   ]
  },
  {
   "cell_type": "markdown",
   "id": "4b178d41-b175-4d22-a850-2598b8cf3660",
   "metadata": {},
   "source": [
    "#### 1) Python program which acceps the radius of the circle from user and compute the area"
   ]
  },
  {
   "cell_type": "code",
   "execution_count": 6,
   "id": "23d5a6b8-9cfe-4c34-a22c-a3c8dff0e552",
   "metadata": {},
   "outputs": [
    {
     "name": "stdin",
     "output_type": "stream",
     "text": [
      "Enter the radius : 3\n"
     ]
    },
    {
     "name": "stdout",
     "output_type": "stream",
     "text": [
      "The area of the circle is  28.26\n"
     ]
    }
   ],
   "source": [
    "radius = int(input(\"Enter the radius :\"))\n",
    "pi =3.14\n",
    "area = pi*(radius**2)\n",
    "print(\"The area of the circle is \",area)"
   ]
  },
  {
   "cell_type": "markdown",
   "id": "6bdd0aa3-116e-4efd-9bfd-51d19f4a1700",
   "metadata": {},
   "source": [
    "\n",
    "#### 2) Python program to accept the details of a student and display it"
   ]
  },
  {
   "cell_type": "code",
   "execution_count": 15,
   "id": "2ba29790-db46-4bda-b5ae-f99397047a7c",
   "metadata": {},
   "outputs": [
    {
     "name": "stdin",
     "output_type": "stream",
     "text": [
      "Enter the name : Anisha\n",
      "Enter the roll number : 21\n",
      "Enter the mark : 78\n"
     ]
    },
    {
     "name": "stdout",
     "output_type": "stream",
     "text": [
      "Name : Anisha\n",
      "Roll No : 21\n",
      "Mark : 78\n"
     ]
    }
   ],
   "source": [
    "name = input(\"Enter the name :\")\n",
    "roll_number = int(input(\"Enter the roll number :\"))\n",
    "mark = int(input('Enter the mark :'))\n",
    "print(\"Name :\" ,name)\n",
    "print(\"Roll No :\" ,roll_number)\n",
    "print(\"Mark :\" ,mark)\n"
   ]
  },
  {
   "cell_type": "markdown",
   "id": "1b3c3538-33c4-4bd8-8abd-3c60354f674f",
   "metadata": {},
   "source": [
    "#### 3) Python program to get the largest number form a list"
   ]
  },
  {
   "cell_type": "code",
   "execution_count": 19,
   "id": "cc749132-2b3d-4d55-9b39-37477d26b45d",
   "metadata": {},
   "outputs": [
    {
     "name": "stdout",
     "output_type": "stream",
     "text": [
      "47 is the largest number\n"
     ]
    }
   ],
   "source": [
    "A = [12,3,47,10]\n",
    "print(max(A),\"is the largest number\")"
   ]
  },
  {
   "cell_type": "markdown",
   "id": "c89f4090-847b-4000-a205-fba179e96dfc",
   "metadata": {},
   "source": [
    "#### 4) Given a range of 1st 10 numbers,write a python program to iterate from start number to the end number and print the sum of the current number and previous number "
   ]
  },
  {
   "cell_type": "code",
   "execution_count": 485,
   "id": "bb77e4c7-351b-4b6c-9836-83adc54047dc",
   "metadata": {},
   "outputs": [
    {
     "name": "stdout",
     "output_type": "stream",
     "text": [
      "current number  1  ,  previous number  0 ,  sum : 1\n",
      "current number  2  ,  previous number  1 ,  sum : 3\n",
      "current number  3  ,  previous number  2 ,  sum : 5\n",
      "current number  4  ,  previous number  3 ,  sum : 7\n",
      "current number  5  ,  previous number  4 ,  sum : 9\n",
      "current number  6  ,  previous number  5 ,  sum : 11\n",
      "current number  7  ,  previous number  6 ,  sum : 13\n",
      "current number  8  ,  previous number  7 ,  sum : 15\n",
      "current number  9  ,  previous number  8 ,  sum : 17\n",
      "current number  10  ,  previous number  9 ,  sum : 19\n"
     ]
    }
   ],
   "source": [
    "for i in range(10):\n",
    "    for j in range(1,i+2):\n",
    "         pass\n",
    "    print(\"current number \" ,j,  \" ,  previous number \", i,  \",  sum :\" ,i+j)"
   ]
  },
  {
   "cell_type": "markdown",
   "id": "686d3394-e0d1-4c47-a40f-4eb7fed59d16",
   "metadata": {},
   "source": [
    "#### 5) Python program to print only those numbers which are divisile by of 5"
   ]
  },
  {
   "cell_type": "code",
   "execution_count": 471,
   "id": "0fa46e4e-864b-44e1-9862-64bd2515604f",
   "metadata": {},
   "outputs": [
    {
     "name": "stdout",
     "output_type": "stream",
     "text": [
      "10\n",
      "20\n",
      "55\n"
     ]
    }
   ],
   "source": [
    "A = [10,20,33,46,55]\n",
    "for i in A:\n",
    "   if i%5==0:\n",
    "       print(i)"
   ]
  },
  {
   "cell_type": "markdown",
   "id": "5fb209a6-189f-4a14-a318-3b04f349cb77",
   "metadata": {},
   "source": [
    "#### 6) Python program to check whether a number is prime or not"
   ]
  },
  {
   "cell_type": "code",
   "execution_count": 270,
   "id": "2a426abb-cb98-4a40-91d0-29f73d5196fd",
   "metadata": {},
   "outputs": [
    {
     "name": "stdin",
     "output_type": "stream",
     "text": [
      "enter a number : 3\n"
     ]
    },
    {
     "name": "stdout",
     "output_type": "stream",
     "text": [
      "3 is a prime number\n"
     ]
    }
   ],
   "source": [
    "A = int(input(\"enter a number :\"))\n",
    "if A<=1:\n",
    "    print(A ,\"is not a prime number\")\n",
    "else:    \n",
    "    for i in range(2,A):\n",
    "        if A%i==0:\n",
    "            print(A ,\"is not a prime number\")\n",
    "            break\n",
    "    else:\n",
    "      print(A ,\"is a prime number\")\n",
    "            "
   ]
  },
  {
   "cell_type": "markdown",
   "id": "3a9ff4f7-6dd5-4e8d-9676-2dca311e97e6",
   "metadata": {},
   "source": [
    "#### 7) Python program to construct the following pattern,using a nested for loop"
   ]
  },
  {
   "cell_type": "code",
   "execution_count": 268,
   "id": "fa78d906-6817-462a-8dc1-4ffbf59178e4",
   "metadata": {},
   "outputs": [
    {
     "name": "stdout",
     "output_type": "stream",
     "text": [
      "*\n",
      "**\n",
      "***\n",
      "****\n",
      "*****\n",
      "****\n",
      "***\n",
      "**\n",
      "*\n"
     ]
    }
   ],
   "source": [
    "for i in range(1,5):\n",
    "    print(i*'*')\n",
    "for j in range(5,0,-1):\n",
    "    print(j*'*')\n",
    "    \n"
   ]
  },
  {
   "cell_type": "markdown",
   "id": "d6522874-532f-444e-8bed-42739071a2c3",
   "metadata": {},
   "source": [
    "#### 8) Python program to accept a string value from the user and display the count of each character in that string"
   ]
  },
  {
   "cell_type": "code",
   "execution_count": 107,
   "id": "6d52be28-b9ef-4472-9307-47a67c37878b",
   "metadata": {},
   "outputs": [
    {
     "name": "stdin",
     "output_type": "stream",
     "text": [
      "Enter a string value : assembly\n"
     ]
    },
    {
     "name": "stdout",
     "output_type": "stream",
     "text": [
      "a = 1\n",
      "s = 2\n",
      "s = 2\n",
      "e = 1\n",
      "m = 1\n",
      "b = 1\n",
      "l = 1\n",
      "y = 1\n"
     ]
    }
   ],
   "source": [
    "A=input(\"Enter a string value :\")\n",
    "for i in A:\n",
    "    print(i,'=',A.count(i))"
   ]
  },
  {
   "cell_type": "markdown",
   "id": "ea6b3c1d-7240-4fbd-a1d3-31481ff158f2",
   "metadata": {},
   "source": [
    "#### 9) Python function to find the maximum of 3 numbers"
   ]
  },
  {
   "cell_type": "code",
   "execution_count": 123,
   "id": "7ebc261f-f311-4572-be6f-617d66ccca28",
   "metadata": {},
   "outputs": [
    {
     "data": {
      "text/plain": [
       "34"
      ]
     },
     "execution_count": 123,
     "metadata": {},
     "output_type": "execute_result"
    }
   ],
   "source": [
    "A = [34,12,7]\n",
    "max(A) "
   ]
  },
  {
   "cell_type": "markdown",
   "id": "61dfe999-e8ad-496c-9de0-ad9171cf4295",
   "metadata": {},
   "source": [
    "#### 10) Python fn that takes a +ve integer & returns the sum of the cube of all +ve integers smaller than the specified number"
   ]
  },
  {
   "cell_type": "code",
   "execution_count": 51,
   "id": "a1a22d6e-90e5-4740-8f00-18fa9bbac145",
   "metadata": {},
   "outputs": [
    {
     "name": "stdin",
     "output_type": "stream",
     "text": [
      "Enter a number : 4\n"
     ]
    },
    {
     "name": "stdout",
     "output_type": "stream",
     "text": [
      "36\n"
     ]
    }
   ],
   "source": [
    "A = int(input(\"Enter a number :\"))\n",
    "sum=0\n",
    "for i in range(A-1,0,-1):\n",
    "    sum +=i**3\n",
    "print(sum)\n",
    "    "
   ]
  },
  {
   "cell_type": "markdown",
   "id": "fd2bd9c3-23e4-49cb-b447-f41643215dbc",
   "metadata": {},
   "source": [
    "#### 11) Python prgrm which iterates from 1 to 10.For multiples of 2,print \"Fizz\" instead of the No.& for the multiples of 5,print \"Buzz\".For No.which are multiples of both 2 and 5,print \"FizzBuzz\""
   ]
  },
  {
   "cell_type": "code",
   "execution_count": 548,
   "id": "42c97ab1-9a72-48b4-88d7-1de1d9e07439",
   "metadata": {},
   "outputs": [
    {
     "name": "stdout",
     "output_type": "stream",
     "text": [
      "1\n",
      "Fizz\n",
      "3\n",
      "Fizz\n",
      "Buzz\n",
      "Fizz\n",
      "7\n",
      "Fizz\n",
      "9\n",
      "FizzBuzz\n"
     ]
    }
   ],
   "source": [
    "for i in range(1,11):\n",
    "    if i%2==0 and i%5==0:\n",
    "      print(\"FizzBuzz\")\n",
    "    elif i%2==0:\n",
    "      print(\"Fizz\")\n",
    "    elif i%5==0:\n",
    "      print(\"Buzz\")    \n",
    "    else:\n",
    "        print(i)"
   ]
  },
  {
   "cell_type": "markdown",
   "id": "b68de3f6-43bc-4a1e-a05d-390e60f84509",
   "metadata": {},
   "source": [
    "#### 12) Python fn to calculate the factorial of a number(a non -ve int).The fn accepts the number as argument"
   ]
  },
  {
   "cell_type": "code",
   "execution_count": 328,
   "id": "d78c4654-0dc9-43ec-b907-e06e728ca2c1",
   "metadata": {},
   "outputs": [
    {
     "name": "stdin",
     "output_type": "stream",
     "text": [
      "Enter a number : 3\n"
     ]
    },
    {
     "name": "stdout",
     "output_type": "stream",
     "text": [
      "factorial : 6\n"
     ]
    }
   ],
   "source": [
    "A = int(input(\"Enter a number :\"))\n",
    "def fac(A):\n",
    "    if A==1 or A==0:\n",
    "        return 1\n",
    "    elif A<0:\n",
    "        False\n",
    "    else:\n",
    "        return A*fac(A-1)\n",
    "        \n",
    "print(\"factorial :\",fac(A))\n",
    "    \n"
   ]
  },
  {
   "cell_type": "markdown",
   "id": "cafb1827-8d9e-4efe-9ee8-49c48423b0b9",
   "metadata": {},
   "source": [
    "#### 13) Python prgrm to find the most frequent item in a list of numbers"
   ]
  },
  {
   "cell_type": "code",
   "execution_count": 438,
   "id": "98172f3c-9752-49bb-8093-43684987e15b",
   "metadata": {},
   "outputs": [
    {
     "name": "stdout",
     "output_type": "stream",
     "text": [
      "2\n"
     ]
    }
   ],
   "source": [
    "A = [2,3,4,2,5,2]\n",
    "print(max(set(A),key=A.count))"
   ]
  },
  {
   "cell_type": "markdown",
   "id": "16bd9d3b-11ea-4e72-90be-d325963ec619",
   "metadata": {},
   "source": [
    "#### 14) Python prgrm to find the sum of squares of the numbers in a list"
   ]
  },
  {
   "cell_type": "code",
   "execution_count": 3,
   "id": "01a1824f-d3bd-4aca-92ca-508cd25e25f0",
   "metadata": {},
   "outputs": [
    {
     "name": "stdout",
     "output_type": "stream",
     "text": [
      "15\n"
     ]
    }
   ],
   "source": [
    "A = [2,1,3,1]\n",
    "sum=0\n",
    "for i in A:\n",
    "    sum += i**2\n",
    "print(sum)"
   ]
  },
  {
   "cell_type": "markdown",
   "id": "74d36994-49f5-4ef7-94e7-06709bdca59b",
   "metadata": {},
   "source": [
    "#### 15) Python prgrm using for loop that will iterate from 1 to 15.for each iteration check if the current number is odd or even,and display the message to the screen as odd or even"
   ]
  },
  {
   "cell_type": "code",
   "execution_count": 499,
   "id": "0a3a2514-ba5e-49ab-b839-0a8106f69296",
   "metadata": {},
   "outputs": [
    {
     "name": "stdout",
     "output_type": "stream",
     "text": [
      "1 -odd\n",
      "2 -even\n",
      "3 -odd\n",
      "4 -even\n",
      "5 -odd\n",
      "6 -even\n",
      "7 -odd\n",
      "8 -even\n",
      "9 -odd\n",
      "10 -even\n",
      "11 -odd\n",
      "12 -even\n",
      "13 -odd\n",
      "14 -even\n",
      "15 -odd\n"
     ]
    }
   ],
   "source": [
    "for i in range(1,16):\n",
    "    if i%2==0:\n",
    "       print(i,\"-even\")\n",
    "    else:\n",
    "        print(i,\"-odd\")"
   ]
  },
  {
   "cell_type": "code",
   "execution_count": null,
   "id": "419895f6-18e1-44f2-bb68-73f86f889c30",
   "metadata": {},
   "outputs": [],
   "source": []
  }
 ],
 "metadata": {
  "kernelspec": {
   "display_name": "Python 3 (ipykernel)",
   "language": "python",
   "name": "python3"
  },
  "language_info": {
   "codemirror_mode": {
    "name": "ipython",
    "version": 3
   },
   "file_extension": ".py",
   "mimetype": "text/x-python",
   "name": "python",
   "nbconvert_exporter": "python",
   "pygments_lexer": "ipython3",
   "version": "3.12.7"
  }
 },
 "nbformat": 4,
 "nbformat_minor": 5
}
