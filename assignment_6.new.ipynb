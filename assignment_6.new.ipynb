{
 "cells": [
  {
   "cell_type": "markdown",
   "id": "8e92f293-d81b-4a90-8f61-9b27ff8daf3d",
   "metadata": {},
   "source": [
    "# REGRESSION"
   ]
  },
  {
   "cell_type": "code",
   "execution_count": 2,
   "id": "feff6c40-b30e-4dfb-b55f-d18a616b9dac",
   "metadata": {},
   "outputs": [],
   "source": [
    "import numpy as np\n",
    "import pandas as pd\n",
    "import matplotlib.pyplot as plt\n",
    "from sklearn.model_selection import train_test_split\n",
    "from sklearn.linear_model import LinearRegression,Ridge,Lasso,ElasticNet\n",
    "from sklearn.preprocessing import PolynomialFeatures\n",
    "from sklearn.metrics import mean_squared_error,mean_absolute_error,r2_score"
   ]
  },
  {
   "cell_type": "code",
   "execution_count": 3,
   "id": "7897a9e6-b2f5-4af2-9878-fa5998d6b97b",
   "metadata": {},
   "outputs": [
    {
     "data": {
      "text/html": [
       "<div>\n",
       "<style scoped>\n",
       "    .dataframe tbody tr th:only-of-type {\n",
       "        vertical-align: middle;\n",
       "    }\n",
       "\n",
       "    .dataframe tbody tr th {\n",
       "        vertical-align: top;\n",
       "    }\n",
       "\n",
       "    .dataframe thead th {\n",
       "        text-align: right;\n",
       "    }\n",
       "</style>\n",
       "<table border=\"1\" class=\"dataframe\">\n",
       "  <thead>\n",
       "    <tr style=\"text-align: right;\">\n",
       "      <th></th>\n",
       "      <th>Year</th>\n",
       "      <th>Price</th>\n",
       "    </tr>\n",
       "  </thead>\n",
       "  <tbody>\n",
       "    <tr>\n",
       "      <th>0</th>\n",
       "      <td>2018</td>\n",
       "      <td>465000</td>\n",
       "    </tr>\n",
       "    <tr>\n",
       "      <th>1</th>\n",
       "      <td>2019</td>\n",
       "      <td>755000</td>\n",
       "    </tr>\n",
       "    <tr>\n",
       "      <th>2</th>\n",
       "      <td>2019</td>\n",
       "      <td>700000</td>\n",
       "    </tr>\n",
       "    <tr>\n",
       "      <th>3</th>\n",
       "      <td>2018</td>\n",
       "      <td>465000</td>\n",
       "    </tr>\n",
       "    <tr>\n",
       "      <th>4</th>\n",
       "      <td>2018</td>\n",
       "      <td>465000</td>\n",
       "    </tr>\n",
       "  </tbody>\n",
       "</table>\n",
       "</div>"
      ],
      "text/plain": [
       "   Year   Price\n",
       "0  2018  465000\n",
       "1  2019  755000\n",
       "2  2019  700000\n",
       "3  2018  465000\n",
       "4  2018  465000"
      ]
     },
     "execution_count": 3,
     "metadata": {},
     "output_type": "execute_result"
    }
   ],
   "source": [
    "df=pd.read_csv(\"car_age_price.csv\")\n",
    "df.head()"
   ]
  },
  {
   "cell_type": "code",
   "execution_count": 4,
   "id": "79ab734a-4e88-4d47-b2ef-4aa234d0a093",
   "metadata": {},
   "outputs": [],
   "source": [
    "x=df['Year'].values.reshape(-1,1)\n",
    "y=df['Price'].values.reshape(-1,1)"
   ]
  },
  {
   "cell_type": "code",
   "execution_count": 5,
   "id": "6ce312fb-855f-4289-b54c-04e8fa8d8b66",
   "metadata": {},
   "outputs": [],
   "source": [
    "x_train,x_test,y_train,y_test=train_test_split(x,y,test_size=0.2,random_state=42)"
   ]
  },
  {
   "cell_type": "code",
   "execution_count": 6,
   "id": "b23d4766-d926-41d0-b155-2aa6f578161e",
   "metadata": {},
   "outputs": [],
   "source": [
    "#linear\n",
    "lin=LinearRegression()\n",
    "lin_model=lin.fit(x_train,y_train)\n",
    "lin_pred=lin_model.predict(x_test)\n",
    "price_2022_lin= lin_model.predict([[2022]])"
   ]
  },
  {
   "cell_type": "code",
   "execution_count": 7,
   "id": "deac1a33-a343-4e08-9605-eec6d2b8e3b9",
   "metadata": {},
   "outputs": [],
   "source": [
    "#polynomial\n",
    "Degree = 2\n",
    "pol = PolynomialFeatures(degree=Degree)\n",
    "x_train_pol = pol.fit_transform(x_train)\n",
    "x_test_pol = pol.transform(x_test)\n",
    "pol_model = LinearRegression()\n",
    "pol_model.fit(x_train_pol, y_train)\n",
    "pol_pred = pol_model.predict(x_test_pol)\n",
    "price_2022_pol=pol_model.predict(pol.transform([[2022]]))"
   ]
  },
  {
   "cell_type": "code",
   "execution_count": 8,
   "id": "202af64e-bb29-4b8f-bad0-233fc9ae20b9",
   "metadata": {},
   "outputs": [],
   "source": [
    "# ridge\n",
    "ridge_model = Ridge(alpha=1.0)\n",
    "ridge_model.fit(x_train, y_train)\n",
    "ridge_pred = ridge_model.predict(x_test)\n",
    "price_2022_ridge=ridge_model.predict([[2022]])"
   ]
  },
  {
   "cell_type": "code",
   "execution_count": 9,
   "id": "8847e231-e810-480b-a7ea-daef66af9eea",
   "metadata": {},
   "outputs": [],
   "source": [
    "#lasso\n",
    "lasso_model = Lasso(alpha=1.0)\n",
    "lasso_model.fit(x_train, y_train)\n",
    "lasso_pred= lasso_model.predict(x_test)\n",
    "price_2022_lasso=lasso_model.predict([[2022]])"
   ]
  },
  {
   "cell_type": "code",
   "execution_count": 10,
   "id": "a5b929c8-ec8d-47df-ad88-111a935dcb15",
   "metadata": {},
   "outputs": [],
   "source": [
    "# elastic net\n",
    "enet_model = ElasticNet(alpha=1.0, l1_ratio=0.5)\n",
    "enet_model.fit(x_train, y_train)\n",
    "enet_pred = enet_model.predict(x_test)\n",
    "price_2022_enet=enet_model.predict([[2022]])"
   ]
  },
  {
   "cell_type": "code",
   "execution_count": 11,
   "id": "8d00519c-e68f-4a02-a62c-cb1e40457d40",
   "metadata": {},
   "outputs": [
    {
     "name": "stdout",
     "output_type": "stream",
     "text": [
      "PREDICTED PRICE OF 2022 MODEL CAR :\n",
      "By linear regression      : 743601.6159450412\n",
      "By polynomial regression  : 710653.1694803238\n",
      "By ridge regression       : 742408.0108262151\n",
      "By lasso regression       : 743599.3742714375\n",
      "By elastic net regression : 699357.8832222372\n"
     ]
    }
   ],
   "source": [
    "print('PREDICTED PRICE OF 2022 MODEL CAR :')\n",
    "print('By linear regression      :',price_2022_lin[0][0])\n",
    "print('By polynomial regression  :',price_2022_pol[0][0])\n",
    "print('By ridge regression       :',price_2022_ridge[0][0])\n",
    "print('By lasso regression       :',price_2022_lasso[0])\n",
    "print('By elastic net regression :',price_2022_enet[0])\n"
   ]
  },
  {
   "cell_type": "markdown",
   "id": "88d0f0d7-3f9d-40d5-ae3e-1361ae8172ab",
   "metadata": {},
   "source": [
    "#### MODEL EVALUATION"
   ]
  },
  {
   "cell_type": "code",
   "execution_count": 13,
   "id": "6154382a-88b3-405d-b059-ecef7b2a56fd",
   "metadata": {},
   "outputs": [
    {
     "name": "stdout",
     "output_type": "stream",
     "text": [
      "LINEAR REGRESION :\n",
      "mean squared error   : 4326906256.829671\n",
      "mean absolute error  : 53534.77957001264\n",
      "R2 score             : 0.36759313425902185\n"
     ]
    }
   ],
   "source": [
    "print('LINEAR REGRESION :')\n",
    "print('mean squared error   :',mean_squared_error(y_test,lin_pred))\n",
    "print('mean absolute error  :',mean_absolute_error(y_test,lin_pred))\n",
    "print('R2 score             :',r2_score(y_test,lin_pred))\n"
   ]
  },
  {
   "cell_type": "code",
   "execution_count": 14,
   "id": "e608975e-97fd-4dd0-b5b9-40f6fed94a01",
   "metadata": {},
   "outputs": [
    {
     "name": "stdout",
     "output_type": "stream",
     "text": [
      "POLYNOMIAL REGRESSION :\n",
      "mean squared error   : 4257698272.2391577\n",
      "mean absolute error  : 53470.71374461962\n",
      "R2 score             : 0.37770835331421926\n"
     ]
    }
   ],
   "source": [
    "print('POLYNOMIAL REGRESSION :')\n",
    "print('mean squared error   :',mean_squared_error(y_test,pol_pred))\n",
    "print('mean absolute error  :',mean_absolute_error(y_test,pol_pred))\n",
    "print('R2 score             :',r2_score(y_test,pol_pred))\n"
   ]
  },
  {
   "cell_type": "code",
   "execution_count": 15,
   "id": "e9ebc504-1cff-4ffe-a44c-c324b2854a9f",
   "metadata": {},
   "outputs": [
    {
     "name": "stdout",
     "output_type": "stream",
     "text": [
      "RIDGE REGRESSION :\n",
      "mean squared error   : 4302321945.74978\n",
      "mean absolute error  : 53295.565320991955\n",
      "R2 score             : 0.3711862990270117\n"
     ]
    }
   ],
   "source": [
    "print('RIDGE REGRESSION :')\n",
    "print('mean squared error   :',mean_squared_error(y_test,ridge_pred))\n",
    "print('mean absolute error  :',mean_absolute_error(y_test,ridge_pred))\n",
    "print('R2 score             :',r2_score(y_test,ridge_pred))"
   ]
  },
  {
   "cell_type": "code",
   "execution_count": 16,
   "id": "5f117d40-aa74-40a2-b0b4-0da0fa91b9b2",
   "metadata": {},
   "outputs": [
    {
     "name": "stdout",
     "output_type": "stream",
     "text": [
      "LASSO REGRESSION :\n",
      "mean squared error   : 4326859771.015669\n",
      "mean absolute error  : 53534.33030898286\n",
      "R2 score             : 0.3675999284778446\n"
     ]
    }
   ],
   "source": [
    "print('LASSO REGRESSION :')\n",
    "print('mean squared error   :',mean_squared_error(y_test,lasso_pred))\n",
    "print('mean absolute error  :',mean_absolute_error(y_test,lasso_pred))\n",
    "print('R2 score             :',r2_score(y_test,lasso_pred))"
   ]
  },
  {
   "cell_type": "code",
   "execution_count": 17,
   "id": "a6416b66-4974-405f-9f6b-d40414742c1c",
   "metadata": {},
   "outputs": [
    {
     "name": "stdout",
     "output_type": "stream",
     "text": [
      "ELASTIC NET REGRESSION :\n",
      "mean squared error   : 3640121284.793099\n",
      "mean absolute error  : 49208.93279455991\n",
      "R2 score             : 0.4679714428757392\n"
     ]
    }
   ],
   "source": [
    "print('ELASTIC NET REGRESSION :')\n",
    "print('mean squared error   :',mean_squared_error(y_test,enet_pred))\n",
    "print('mean absolute error  :',mean_absolute_error(y_test,enet_pred))\n",
    "print('R2 score             :',r2_score(y_test,enet_pred))"
   ]
  },
  {
   "cell_type": "markdown",
   "id": "aef4c5f9-91e3-4532-87ac-e857938b5b18",
   "metadata": {},
   "source": [
    "##### Here,elastic net is performing better..."
   ]
  },
  {
   "cell_type": "code",
   "execution_count": null,
   "id": "1619bfcb-6d4b-46af-b79f-0990504185fb",
   "metadata": {},
   "outputs": [],
   "source": []
  }
 ],
 "metadata": {
  "kernelspec": {
   "display_name": "Python [conda env:base] *",
   "language": "python",
   "name": "conda-base-py"
  },
  "language_info": {
   "codemirror_mode": {
    "name": "ipython",
    "version": 3
   },
   "file_extension": ".py",
   "mimetype": "text/x-python",
   "name": "python",
   "nbconvert_exporter": "python",
   "pygments_lexer": "ipython3",
   "version": "3.12.7"
  }
 },
 "nbformat": 4,
 "nbformat_minor": 5
}
