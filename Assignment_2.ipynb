{
 "cells": [
  {
   "cell_type": "markdown",
   "id": "772ed2da-b0bc-4ff4-a5dd-51ba624bd077",
   "metadata": {},
   "source": [
    "# Numpy"
   ]
  },
  {
   "cell_type": "markdown",
   "id": "27c810ca-e066-4abc-87a1-6a69e7b689da",
   "metadata": {},
   "source": [
    "#### 1)Python prgrm to create an array and converted to a desired dimension."
   ]
  },
  {
   "cell_type": "code",
   "execution_count": 17,
   "id": "61a6fa92-6596-4285-ab07-fcfb939dd373",
   "metadata": {},
   "outputs": [
    {
     "name": "stdout",
     "output_type": "stream",
     "text": [
      "[[ 8  9 10]\n",
      " [11 12 13]]\n"
     ]
    }
   ],
   "source": [
    "import numpy as np\n",
    "arr=np.array([[8,9,10],[11,12,13]])\n",
    "print(arr)"
   ]
  },
  {
   "cell_type": "code",
   "execution_count": 18,
   "id": "57bc0639-9ef5-4eba-917f-5a978a6c63c8",
   "metadata": {},
   "outputs": [
    {
     "name": "stdout",
     "output_type": "stream",
     "text": [
      "[[ 8  9]\n",
      " [10 11]\n",
      " [12 13]]\n"
     ]
    }
   ],
   "source": [
    "print(arr.reshape(3,2))"
   ]
  },
  {
   "cell_type": "markdown",
   "id": "9e0a5e6d-3135-4cb8-b2ba-09e21f39d930",
   "metadata": {},
   "source": [
    "#### 2) Create an array and extract particular set of elements from the array"
   ]
  },
  {
   "cell_type": "code",
   "execution_count": 49,
   "id": "285e20f8-414b-4fd9-b22a-9ebf6f5b5676",
   "metadata": {},
   "outputs": [
    {
     "name": "stdout",
     "output_type": "stream",
     "text": [
      "[[ 8  9]\n",
      " [10 11]\n",
      " [12 13]]\n"
     ]
    }
   ],
   "source": [
    "arr1=np.array([[8,9],[10,11],[12,13]])\n",
    "print(arr1)"
   ]
  },
  {
   "cell_type": "code",
   "execution_count": 50,
   "id": "ab83061c-0e5b-4708-9a24-9c163cac735c",
   "metadata": {},
   "outputs": [
    {
     "name": "stdout",
     "output_type": "stream",
     "text": [
      "[ 9 11]\n"
     ]
    }
   ],
   "source": [
    "print(arr1[0:2,1,])"
   ]
  },
  {
   "cell_type": "code",
   "execution_count": null,
   "id": "b1e2857a-d670-44b9-aa2c-7e9bc5d47504",
   "metadata": {},
   "outputs": [],
   "source": []
  }
 ],
 "metadata": {
  "kernelspec": {
   "display_name": "Python 3 (ipykernel)",
   "language": "python",
   "name": "python3"
  },
  "language_info": {
   "codemirror_mode": {
    "name": "ipython",
    "version": 3
   },
   "file_extension": ".py",
   "mimetype": "text/x-python",
   "name": "python",
   "nbconvert_exporter": "python",
   "pygments_lexer": "ipython3",
   "version": "3.12.7"
  }
 },
 "nbformat": 4,
 "nbformat_minor": 5
}
